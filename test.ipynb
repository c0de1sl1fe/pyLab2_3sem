{
 "cells": [
  {
   "cell_type": "code",
   "execution_count": 12,
   "metadata": {},
   "outputs": [],
   "source": [
    "import os\n",
    "import csv\n",
    "\n",
    "def create_csv(path_dir:str) -> None:\n",
    "    path = os.path.join(\"dataset\", path_dir)\n",
    "    names = os.listdir(path)\n",
    "    with open(os.path.join(path, f\"{path_dir}annotation.csv\"), 'w') as file_csv:\n",
    "        writer = csv.writer(file_csv)\n",
    "        for i in names:\n",
    "            # writer.writerow(str(os.path.abspath(i) + \",\" + os.path.join(path, i) + \",\" + path_dir))\n",
    "            file_csv.write(os.path.abspath(i) + \",\" + os.path.join(path, i) + \",\" + path_dir)\n",
    "            file_csv.write(\"\\n\")\n",
    "        "
   ]
  },
  {
   "cell_type": "code",
   "execution_count": 3,
   "metadata": {},
   "outputs": [],
   "source": [
    "import os\n",
    "def create_dir(path: str) -> None:\n",
    "    if not os.path.isdir(os.path.join(path, 'dataset')):\n",
    "        os.mkdir(os.path.join(path, 'dataset'))\n",
    "\n",
    "create_dir(\"D:\\Git\\pyLab2_3sem\\dataset\\\\test\")"
   ]
  },
  {
   "cell_type": "code",
   "execution_count": 8,
   "metadata": {},
   "outputs": [
    {
     "data": {
      "text/plain": [
       "'D:\\\\Git\\\\pyLab2_3sem\\\\dataset\\\\test\\\\test000.jpg'"
      ]
     },
     "execution_count": 8,
     "metadata": {},
     "output_type": "execute_result"
    }
   ],
   "source": [
    "import shutil\n",
    "\n",
    "\n",
    "src_path = \"D:\\Git\\pyLab2_3sem\\dataset\\\\test\\\\000.jpg\"\n",
    "drc_path = \"D:\\Git\\pyLab2_3sem\\dataset\\\\test\\\\test000.jpg\"\n",
    "shutil.copy(src_path, drc_path)\n"
   ]
  },
  {
   "cell_type": "code",
   "execution_count": 28,
   "metadata": {},
   "outputs": [
    {
     "data": {
      "text/plain": [
       "'D:/for_test/test_000.jpg'"
      ]
     },
     "execution_count": 28,
     "metadata": {},
     "output_type": "execute_result"
    }
   ],
   "source": [
    "from copy import copy\n",
    "from shutil import copytree\n",
    "\n",
    "\n",
    "dest = \"D:/for_test/test_000.jpg\"\n",
    "src = 'dataset/test/000.jpg'\n",
    "shutil.copy(src, dest)\n",
    "# copytree(src, dest"
   ]
  },
  {
   "cell_type": "code",
   "execution_count": 40,
   "metadata": {},
   "outputs": [
    {
     "name": "stdout",
     "output_type": "stream",
     "text": [
      ".\n"
     ]
    }
   ],
   "source": [
    "dest = \"D:/for_test\"\n",
    "\n",
    "def copy_dataset(path:str, copy_class_name:str) -> None:\n",
    "    names = os.listdir(os.path.join('dataset', copy_class_name))\n",
    "    for i in names:\n",
    "        tmp = f'{copy_class_name}_{i}'\n",
    "        \n",
    "        print(os.path.join('dataset', i))\n",
    "        print(os.path.join(path, tmp))\n",
    "        shutil.copy(os.path.join(path, tmp), os.path.join(f'dataset/{copy_class_name}', i))\n",
    "print(os.curdir)\n",
    "# copy_dataset(dest, 'test')"
   ]
  },
  {
   "cell_type": "code",
   "execution_count": 48,
   "metadata": {},
   "outputs": [],
   "source": [
    "def copytree(class_name_copy, dst):\n",
    "    for item in os.listdir(os.path.join('dataset', class_name_copy)):\n",
    "        s = os.path.join(os.path.join('dataset', class_name_copy), item)\n",
    "        d = os.path.join(dst, f'{class_name_copy}_{item}')\n",
    "        shutil.copy2(s, d)\n",
    "\n",
    "# def copy_dataset(path:str, copy_class_name:str) -> None:\n",
    "#     names = os.listdir(os.path.join('dataset', copy_class_name))\n",
    "#     for i in names:\n",
    "#         tmp = f'{copy_class_name}_{i}'\n",
    "#         shutil.copy(os.path.join(path, tmp), os.path.abspath(i))\n",
    "\n",
    "# def copy_dataset(src, dst, symlinks=False, ignore=\".csv\"):\n",
    "#     for item in os.listdir(src):\n",
    "#         s = os.path.join(src, item)\n",
    "#         d = os.path.join(dst, item)\n",
    "#         if os.path.isdir(s):\n",
    "#             shutil.copytree(s, d, symlinks, ignore)\n",
    "#         else:\n",
    "#             shutil.copy2(s, d)\n",
    "copytree('test', 'D:/for_test/')"
   ]
  },
  {
   "cell_type": "code",
   "execution_count": 53,
   "metadata": {},
   "outputs": [
    {
     "name": "stdout",
     "output_type": "stream",
     "text": [
      "No\n"
     ]
    }
   ],
   "source": [
    "strtest = \"test.jpg\"\n",
    "if not \".jpg\" in strtest:\n",
    "    print(\"yes\")\n",
    "else: \n",
    "    print(\"No\")"
   ]
  },
  {
   "cell_type": "code",
   "execution_count": 60,
   "metadata": {},
   "outputs": [
    {
     "name": "stdout",
     "output_type": "stream",
     "text": [
      "['000.jpg', '0798.jpg', '087987.jpg', '0987.jpg', '098798.jpg', '1.jpg', '10056.jpg', '10057.jpg', '2.jpg', 'test000.jpg']\n"
     ]
    }
   ],
   "source": [
    "import random\n",
    "def create_dir_copy_randNames(class_name):\n",
    "    path = os.path.join(\"dataset\", class_name)\n",
    "    names = os.listdir(path)\n",
    "    for i in names:\n",
    "        if not \".jpg\" in i:\n",
    "            names.remove(i)\n",
    "    print(names)\n",
    "create_dir_copy_randNames(\"test\")"
   ]
  },
  {
   "cell_type": "code",
   "execution_count": 1,
   "metadata": {},
   "outputs": [
    {
     "name": "stdout",
     "output_type": "stream",
     "text": [
      "5\n",
      "6\n",
      "7\n",
      "8\n",
      "9\n"
     ]
    }
   ],
   "source": [
    "for i in range(5, 10):\n",
    "    print(i)"
   ]
  },
  {
   "cell_type": "code",
   "execution_count": 22,
   "metadata": {},
   "outputs": [
    {
     "name": "stdout",
     "output_type": "stream",
     "text": [
      "len 1 3\n",
      "len 2 3\n",
      "6\n",
      "['087987.jpg', '098798.jpg', '10057.jpg', '0798.jpg', '0987.jpg', '2.jpg']\n",
      "0\n",
      "1\n",
      "2\n",
      "3\n",
      "4\n",
      "5\n",
      "3\n",
      "4\n",
      "5\n"
     ]
    }
   ],
   "source": [
    "import os\n",
    "import random\n",
    "\n",
    "import shutil\n",
    "def create_dir_copy_randNames_both(class_name1: str, class_name2: str, dst: str) -> None:\n",
    "    '''Create array with rand num in 0 to 10000 length of names in source dir \n",
    "    and copy with that names to dst dir;\n",
    "    and create descriprion .csv file like in task 1'''\n",
    "# переписать для двух class names\n",
    "\n",
    "    path = os.path.join(\"dataset\", class_name1)\n",
    "    names1 = os.listdir(path)\n",
    "    for it1 in names1:\n",
    "        if not \".jpg\" in it1:\n",
    "            names1.remove(it1)\n",
    "    print(\"len 1\", len(names1))\n",
    "    path = os.path.join(\"dataset\", class_name2)\n",
    "\n",
    "    names2 = os.listdir(path)\n",
    "    for it2 in names2:\n",
    "        if not \".jpg\" in it2:\n",
    "            names2.remove(it2)\n",
    "    print(\"len 2\", len(names2))\n",
    "    tmp = random.sample(range(1, 10001), len(names1)+len(names2))\n",
    "    names = names1 + names2\n",
    "    print(len(names))\n",
    "    print(names)\n",
    "\n",
    "    for i in range(len(names1)):\n",
    "        print(i)\n",
    "        s = os.path.join(os.path.join('dataset', class_name1), names[i])\n",
    "        d = os.path.join(dst, f'{tmp[i]}.jpg')\n",
    "        shutil.copy2(s, d)\n",
    "    for j in range(len(names1), len(names)):\n",
    "        print(j)\n",
    "        s = os.path.join(os.path.join('dataset', class_name2), names[j])\n",
    "        d = os.path.join(dst, f'{tmp[j]}.jpg')\n",
    "        shutil.copy2(s, d)\n",
    "\n",
    "    names = os.listdir(dst)\n",
    "    with open(os.path.join(dst, \"annotation.csv\"), 'w') as file_csv:\n",
    "        for i in names:\n",
    "            if not \".jpg\" in i:\n",
    "                names.remove(i)\n",
    "        for k in range(len(names1)):\n",
    "            file_csv.write(os.path.abspath(\n",
    "                names[k]) + \",\" + os.path.join(dst, names[k]) + \",\"+class_name1)\n",
    "            file_csv.write(\"\\n\")\n",
    "\n",
    "        for m in range(len(names1), len(names)):\n",
    "            print(m)\n",
    "            file_csv.write(os.path.abspath(\n",
    "                names[m]) + \",\" + os.path.join(dst, names[m]) + \",\"+class_name2)\n",
    "            file_csv.write(\"\\n\")\n",
    "\n",
    "\n",
    "    file_csv.close\n",
    "\n",
    "create_dir_copy_randNames_both('test1', 'test2', \"D:/for_test/dataset/\")"
   ]
  },
  {
   "cell_type": "code",
   "execution_count": 48,
   "metadata": {},
   "outputs": [
    {
     "name": "stdout",
     "output_type": "stream",
     "text": [
      "['D:/for_test/dataset/1144.jpg', 'D:/for_test/dataset/1377.jpg', 'D:/for_test/dataset/2139.jpg'] \n",
      " ['test1', 'test1', 'test1']\n"
     ]
    }
   ],
   "source": [
    "import csv\n",
    "with open('annotation.csv') as File:\n",
    "    reader = csv.reader(File, delimiter=';', quotechar=';',\n",
    "                        quoting=csv.QUOTE_MINIMAL)\n",
    "    tmp1 = []\n",
    "    tmp2 = []\n",
    "    for row in reader:\n",
    "        if(row[2]==\"test1\"):\n",
    "            tmp1.append(row[1])\n",
    "            tmp2.append(row[2])\n",
    "        # print(row[0])\n",
    "    # tmp = zip(tmp1, tmp2)\n",
    "print(tmp1, \"\\n\", tmp2)"
   ]
  },
  {
   "cell_type": "code",
   "execution_count": 49,
   "metadata": {},
   "outputs": [
    {
     "name": "stdout",
     "output_type": "stream",
     "text": [
      "00000.jpg\n"
     ]
    }
   ],
   "source": [
    "str = \"d/a/d/00000.jpg\"\n",
    "print(os.path.basename(str))"
   ]
  },
  {
   "cell_type": "code",
   "execution_count": 61,
   "metadata": {},
   "outputs": [
    {
     "ename": "UnboundLocalError",
     "evalue": "local variable 'reader' referenced before assignment",
     "output_type": "error",
     "traceback": [
      "\u001b[1;31m---------------------------------------------------------------------------\u001b[0m",
      "\u001b[1;31mUnboundLocalError\u001b[0m                         Traceback (most recent call last)",
      "Cell \u001b[1;32mIn [61], line 26\u001b[0m\n\u001b[0;32m     22\u001b[0m     \u001b[39mreturn\u001b[39;00m \u001b[39mNone\u001b[39;00m\n\u001b[0;32m     25\u001b[0m it \u001b[39m=\u001b[39m iterator3(\u001b[39m\"\u001b[39m\u001b[39mtest1\u001b[39m\u001b[39m\"\u001b[39m, \u001b[39m\"\u001b[39m\u001b[39mD:/for_test/dataset/\u001b[39m\u001b[39m\"\u001b[39m)\n\u001b[1;32m---> 26\u001b[0m \u001b[39mfor\u001b[39;00m i \u001b[39min\u001b[39;00m it:\n\u001b[0;32m     27\u001b[0m     \u001b[39mprint\u001b[39m(i)\n",
      "Cell \u001b[1;32mIn [61], line 8\u001b[0m, in \u001b[0;36miterator3\u001b[1;34m(class_name, path)\u001b[0m\n\u001b[0;32m      2\u001b[0m \u001b[39m'''Just interater for direcrory'''\u001b[39;00m\n\u001b[0;32m      4\u001b[0m \u001b[39m# names = os.listdir(path)\u001b[39;00m\n\u001b[0;32m      5\u001b[0m \u001b[39m# for i in names:\u001b[39;00m\n\u001b[0;32m      6\u001b[0m \u001b[39m#     if not \".jpg\" in i:\u001b[39;00m\n\u001b[0;32m      7\u001b[0m \u001b[39m#         names.remove(i)\u001b[39;00m\n\u001b[1;32m----> 8\u001b[0m reader\n\u001b[0;32m      9\u001b[0m \u001b[39mwith\u001b[39;00m \u001b[39mopen\u001b[39m(\u001b[39m'\u001b[39m\u001b[39mannotation.csv\u001b[39m\u001b[39m'\u001b[39m) \u001b[39mas\u001b[39;00m File:\n\u001b[0;32m     10\u001b[0m     reader \u001b[39m=\u001b[39m csv\u001b[39m.\u001b[39mreader(File, delimiter\u001b[39m=\u001b[39m\u001b[39m'\u001b[39m\u001b[39m;\u001b[39m\u001b[39m'\u001b[39m, quotechar\u001b[39m=\u001b[39m\u001b[39m'\u001b[39m\u001b[39m;\u001b[39m\u001b[39m'\u001b[39m,\n\u001b[0;32m     11\u001b[0m                         quoting\u001b[39m=\u001b[39mcsv\u001b[39m.\u001b[39mQUOTE_MINIMAL)\n",
      "\u001b[1;31mUnboundLocalError\u001b[0m: local variable 'reader' referenced before assignment"
     ]
    }
   ],
   "source": [
    "def iterator3(class_name: str, path: str) -> str:\n",
    "    '''Just interater for direcrory'''\n",
    "\n",
    "    # names = os.listdir(path)\n",
    "    # for i in names:\n",
    "    #     if not \".jpg\" in i:\n",
    "    #         names.remove(i)\n",
    "    reader\n",
    "    with open('annotation.csv') as File:\n",
    "        reader = csv.reader(File, delimiter=';', quotechar=';',\n",
    "                            quoting=csv.QUOTE_MINIMAL)\n",
    "    tmp1 = []\n",
    "    # tmp2 = []\n",
    "    for it in reader:\n",
    "        if(it[2] == class_name):\n",
    "            tmp1.append(os.path.basename(it[1]))\n",
    "    print(tmp1)\n",
    "    for i in range(len(tmp1)):\n",
    "        yield tmp1[i]    \n",
    "    # for i in range(len(names)):\n",
    "    #     yield (names[i])\n",
    "    return None\n",
    "\n",
    "\n",
    "it = iterator3(\"test1\", \"D:/for_test/dataset/\")\n",
    "for i in it:\n",
    "    print(i)\n"
   ]
  },
  {
   "cell_type": "code",
   "execution_count": 64,
   "metadata": {},
   "outputs": [
    {
     "name": "stdout",
     "output_type": "stream",
     "text": [
      "['1144.jpg', '1377.jpg', '2139.jpg']\n",
      "1144.jpg\n",
      "1377.jpg\n",
      "2139.jpg\n"
     ]
    }
   ],
   "source": [
    "def iterator3(class_name: str, path: str) -> str:\n",
    "    '''Just interater for direcrory'''\n",
    "\n",
    "    # names = os.listdir(path)\n",
    "    # for i in names:\n",
    "    #     if not \".jpg\" in i:\n",
    "    #         names.remove(i)\n",
    "    tmp1 = []\n",
    "    with open('annotation.csv') as File:\n",
    "        reader = csv.reader(File, delimiter=';', quotechar=';',\n",
    "                            quoting=csv.QUOTE_MINIMAL)\n",
    "        for it in reader:\n",
    "            if(it[2] == class_name):\n",
    "                tmp1.append(os.path.basename(it[1]))\n",
    "        print(tmp1)\n",
    "    File.close\n",
    "    \n",
    "    # tmp2 = []\n",
    "\n",
    "    for i in range(len(tmp1)):\n",
    "        yield tmp1[i]    \n",
    "    # for i in range(len(names)):\n",
    "    #     yield (names[i])\n",
    "    return None\n",
    "\n",
    "it = iterator3(\"test1\", \"D:/for_test/dataset/\")\n",
    "it\n",
    "for i in it:\n",
    "    print(i)"
   ]
  }
 ],
 "metadata": {
  "kernelspec": {
   "display_name": "Python 3.10.7 ('.venv': venv)",
   "language": "python",
   "name": "python3"
  },
  "language_info": {
   "codemirror_mode": {
    "name": "ipython",
    "version": 3
   },
   "file_extension": ".py",
   "mimetype": "text/x-python",
   "name": "python",
   "nbconvert_exporter": "python",
   "pygments_lexer": "ipython3",
   "version": "3.10.7"
  },
  "orig_nbformat": 4,
  "vscode": {
   "interpreter": {
    "hash": "24a59ee5e3643cbd2282edbf8645105d525eb7db6de792695d58b0b7c85c9845"
   }
  }
 },
 "nbformat": 4,
 "nbformat_minor": 2
}
