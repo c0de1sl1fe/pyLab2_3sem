{
 "cells": [
  {
   "cell_type": "code",
   "execution_count": 12,
   "metadata": {},
   "outputs": [],
   "source": [
    "import os\n",
    "import csv\n",
    "\n",
    "def create_csv(path_dir:str) -> None:\n",
    "    path = os.path.join(\"dataset\", path_dir)\n",
    "    names = os.listdir(path)\n",
    "    with open(os.path.join(path, f\"{path_dir}annotation.csv\"), 'w') as file_csv:\n",
    "        writer = csv.writer(file_csv)\n",
    "        for i in names:\n",
    "            # writer.writerow(str(os.path.abspath(i) + \",\" + os.path.join(path, i) + \",\" + path_dir))\n",
    "            file_csv.write(os.path.abspath(i) + \",\" + os.path.join(path, i) + \",\" + path_dir)\n",
    "            file_csv.write(\"\\n\")\n",
    "        "
   ]
  },
  {
   "cell_type": "code",
   "execution_count": 13,
   "metadata": {},
   "outputs": [],
   "source": [
    "peth = \"test\"\n",
    "create_csv(peth)   "
   ]
  }
 ],
 "metadata": {
  "kernelspec": {
   "display_name": "Python 3.10.7 ('.venv': venv)",
   "language": "python",
   "name": "python3"
  },
  "language_info": {
   "codemirror_mode": {
    "name": "ipython",
    "version": 3
   },
   "file_extension": ".py",
   "mimetype": "text/x-python",
   "name": "python",
   "nbconvert_exporter": "python",
   "pygments_lexer": "ipython3",
   "version": "3.10.7"
  },
  "orig_nbformat": 4,
  "vscode": {
   "interpreter": {
    "hash": "24a59ee5e3643cbd2282edbf8645105d525eb7db6de792695d58b0b7c85c9845"
   }
  }
 },
 "nbformat": 4,
 "nbformat_minor": 2
}
