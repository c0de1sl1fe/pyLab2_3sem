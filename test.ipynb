{
 "cells": [
  {
   "cell_type": "code",
   "execution_count": 12,
   "metadata": {},
   "outputs": [],
   "source": [
    "import os\n",
    "import csv\n",
    "\n",
    "def create_csv(path_dir:str) -> None:\n",
    "    path = os.path.join(\"dataset\", path_dir)\n",
    "    names = os.listdir(path)\n",
    "    with open(os.path.join(path, f\"{path_dir}annotation.csv\"), 'w') as file_csv:\n",
    "        writer = csv.writer(file_csv)\n",
    "        for i in names:\n",
    "            # writer.writerow(str(os.path.abspath(i) + \",\" + os.path.join(path, i) + \",\" + path_dir))\n",
    "            file_csv.write(os.path.abspath(i) + \",\" + os.path.join(path, i) + \",\" + path_dir)\n",
    "            file_csv.write(\"\\n\")\n",
    "        "
   ]
  },
  {
   "cell_type": "code",
   "execution_count": 3,
   "metadata": {},
   "outputs": [],
   "source": [
    "import os\n",
    "def create_dir(path: str) -> None:\n",
    "    if not os.path.isdir(os.path.join(path, 'dataset')):\n",
    "        os.mkdir(os.path.join(path, 'dataset'))\n",
    "\n",
    "create_dir(\"D:\\Git\\pyLab2_3sem\\dataset\\\\test\")"
   ]
  },
  {
   "cell_type": "code",
   "execution_count": 8,
   "metadata": {},
   "outputs": [
    {
     "data": {
      "text/plain": [
       "'D:\\\\Git\\\\pyLab2_3sem\\\\dataset\\\\test\\\\test000.jpg'"
      ]
     },
     "execution_count": 8,
     "metadata": {},
     "output_type": "execute_result"
    }
   ],
   "source": [
    "import shutil\n",
    "\n",
    "\n",
    "src_path = \"D:\\Git\\pyLab2_3sem\\dataset\\\\test\\\\000.jpg\"\n",
    "drc_path = \"D:\\Git\\pyLab2_3sem\\dataset\\\\test\\\\test000.jpg\"\n",
    "shutil.copy(src_path, drc_path)\n"
   ]
  },
  {
   "cell_type": "code",
   "execution_count": 28,
   "metadata": {},
   "outputs": [
    {
     "data": {
      "text/plain": [
       "'D:/for_test/test_000.jpg'"
      ]
     },
     "execution_count": 28,
     "metadata": {},
     "output_type": "execute_result"
    }
   ],
   "source": [
    "from copy import copy\n",
    "from shutil import copytree\n",
    "\n",
    "\n",
    "dest = \"D:/for_test/test_000.jpg\"\n",
    "src = 'dataset/test/000.jpg'\n",
    "shutil.copy(src, dest)\n",
    "# copytree(src, dest"
   ]
  },
  {
   "cell_type": "code",
   "execution_count": 40,
   "metadata": {},
   "outputs": [
    {
     "name": "stdout",
     "output_type": "stream",
     "text": [
      ".\n"
     ]
    }
   ],
   "source": [
    "dest = \"D:/for_test\"\n",
    "\n",
    "def copy_dataset(path:str, copy_class_name:str) -> None:\n",
    "    names = os.listdir(os.path.join('dataset', copy_class_name))\n",
    "    for i in names:\n",
    "        tmp = f'{copy_class_name}_{i}'\n",
    "        \n",
    "        print(os.path.join('dataset', i))\n",
    "        print(os.path.join(path, tmp))\n",
    "        shutil.copy(os.path.join(path, tmp), os.path.join(f'dataset/{copy_class_name}', i))\n",
    "print(os.curdir)\n",
    "# copy_dataset(dest, 'test')"
   ]
  },
  {
   "cell_type": "code",
   "execution_count": 48,
   "metadata": {},
   "outputs": [],
   "source": [
    "def copytree(class_name_copy, dst):\n",
    "    for item in os.listdir(os.path.join('dataset', class_name_copy)):\n",
    "        s = os.path.join(os.path.join('dataset', class_name_copy), item)\n",
    "        d = os.path.join(dst, f'{class_name_copy}_{item}')\n",
    "        shutil.copy2(s, d)\n",
    "\n",
    "# def copy_dataset(path:str, copy_class_name:str) -> None:\n",
    "#     names = os.listdir(os.path.join('dataset', copy_class_name))\n",
    "#     for i in names:\n",
    "#         tmp = f'{copy_class_name}_{i}'\n",
    "#         shutil.copy(os.path.join(path, tmp), os.path.abspath(i))\n",
    "\n",
    "# def copy_dataset(src, dst, symlinks=False, ignore=\".csv\"):\n",
    "#     for item in os.listdir(src):\n",
    "#         s = os.path.join(src, item)\n",
    "#         d = os.path.join(dst, item)\n",
    "#         if os.path.isdir(s):\n",
    "#             shutil.copytree(s, d, symlinks, ignore)\n",
    "#         else:\n",
    "#             shutil.copy2(s, d)\n",
    "copytree('test', 'D:/for_test/')"
   ]
  },
  {
   "cell_type": "code",
   "execution_count": 53,
   "metadata": {},
   "outputs": [
    {
     "name": "stdout",
     "output_type": "stream",
     "text": [
      "No\n"
     ]
    }
   ],
   "source": [
    "strtest = \"test.jpg\"\n",
    "if not \".jpg\" in strtest:\n",
    "    print(\"yes\")\n",
    "else: \n",
    "    print(\"No\")"
   ]
  },
  {
   "cell_type": "code",
   "execution_count": 60,
   "metadata": {},
   "outputs": [
    {
     "name": "stdout",
     "output_type": "stream",
     "text": [
      "['000.jpg', '0798.jpg', '087987.jpg', '0987.jpg', '098798.jpg', '1.jpg', '10056.jpg', '10057.jpg', '2.jpg', 'test000.jpg']\n"
     ]
    }
   ],
   "source": [
    "import random\n",
    "def create_dir_copy_randNames(class_name):\n",
    "    path = os.path.join(\"dataset\", class_name)\n",
    "    names = os.listdir(path)\n",
    "    for i in names:\n",
    "        if not \".jpg\" in i:\n",
    "            names.remove(i)\n",
    "    print(names)\n",
    "create_dir_copy_randNames(\"test\")"
   ]
  }
 ],
 "metadata": {
  "kernelspec": {
   "display_name": "Python 3.10.7 ('.venv': venv)",
   "language": "python",
   "name": "python3"
  },
  "language_info": {
   "codemirror_mode": {
    "name": "ipython",
    "version": 3
   },
   "file_extension": ".py",
   "mimetype": "text/x-python",
   "name": "python",
   "nbconvert_exporter": "python",
   "pygments_lexer": "ipython3",
   "version": "3.10.7"
  },
  "orig_nbformat": 4,
  "vscode": {
   "interpreter": {
    "hash": "24a59ee5e3643cbd2282edbf8645105d525eb7db6de792695d58b0b7c85c9845"
   }
  }
 },
 "nbformat": 4,
 "nbformat_minor": 2
}
